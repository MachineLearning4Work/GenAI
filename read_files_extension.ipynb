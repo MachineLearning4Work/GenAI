{
  "nbformat": 4,
  "nbformat_minor": 0,
  "metadata": {
    "colab": {
      "provenance": []
    },
    "kernelspec": {
      "name": "python3",
      "display_name": "Python 3"
    },
    "language_info": {
      "name": "python"
    }
  },
  "cells": [
    {
      "cell_type": "code",
      "source": [
        "import os\n",
        "from google.colab import drive\n",
        "drive.mount('/content/drive/')\n",
        "base_path = '/content/drive/My Drive/'\n",
        "data_path_googleDrive='genai_sample_data/'\n",
        "data_path =os.path.join(base_path, data_path_googleDrive)\n",
        "print(\"--------Data Path in Google Drive \\n\")\n",
        "print(data_path)\n",
        "print(\"--------------------------------\")\n",
        "\n",
        "# List all files and folders in the directory\n",
        "if os.path.exists(data_path):\n",
        "    file_paths = os.listdir(data_path)\n",
        "    print(\"Files and folders in directory:\")\n",
        "    for f in file_paths:\n",
        "        print(f)\n",
        "else:\n",
        "    print(\"The directory does not exist.\")\n",
        "\n",
        "print(\"File_paths : \\n \")\n",
        "print(file_paths)\n",
        "\n"
      ],
      "metadata": {
        "colab": {
          "base_uri": "https://localhost:8080/"
        },
        "id": "eFPZx3n4l093",
        "outputId": "1d7f19a7-3c77-40d1-ac62-f02d9b196aeb"
      },
      "execution_count": 1,
      "outputs": [
        {
          "output_type": "stream",
          "name": "stdout",
          "text": [
            "Mounted at /content/drive/\n",
            "--------Data Path in Google Drive \n",
            "\n",
            "/content/drive/My Drive/genai_sample_data/\n",
            "--------------------------------\n",
            "Files and folders in directory:\n",
            "mehdi_image.jpg\n",
            "miniproject.docx\n",
            "27April2025_Mehdi_Resume_QC_Canada.pdf\n",
            "27April2025_Professional_CoverLetter_Mehdi.docx.pdf\n",
            "Intro_Python_Coding_2025.txt\n",
            "File_paths : \n",
            " \n",
            "['mehdi_image.jpg', 'miniproject.docx', '27April2025_Mehdi_Resume_QC_Canada.pdf', '27April2025_Professional_CoverLetter_Mehdi.docx.pdf', 'Intro_Python_Coding_2025.txt']\n"
          ]
        }
      ]
    },
    {
      "cell_type": "code",
      "source": [
        "import os\n",
        "import mimetypes\n",
        "\n",
        "# Initialize mimetypes\n",
        "mimetypes.init()\n",
        "\n",
        "# Define common raster image extensions\n",
        "IMAGE_EXTENSIONS = ['.bmp', '.jpg', '.jpeg', '.png', '.gif', '.tif', '.tiff', '.webp']\n",
        "\n",
        "def detect_file_format(file_path):\n",
        "    ext = os.path.splitext(file_path)[1].lower()\n",
        "\n",
        "    # Detect by extension\n",
        "    if ext == '.pdf':\n",
        "        return 'PDF'\n",
        "    elif ext in ['.doc', '.docx']:\n",
        "        return 'Word'\n",
        "    elif ext in ['.ppt', '.pptx']:\n",
        "        return 'PowerPoint'\n",
        "    elif ext in ['.txt', '.text']:\n",
        "        return 'Text'\n",
        "    elif ext in IMAGE_EXTENSIONS:\n",
        "        return 'Bitmap Image'\n",
        "\n",
        "    # Fallback: MIME type\n",
        "    mime_type, _ = mimetypes.guess_type(file_path)\n",
        "    if mime_type:\n",
        "        if 'pdf' in mime_type:\n",
        "            return 'PDF'\n",
        "        elif 'msword' in mime_type or 'wordprocessingml' in mime_type:\n",
        "            return 'Word'\n",
        "        elif 'presentation' in mime_type or 'powerpoint' in mime_type:\n",
        "            return 'PowerPoint'\n",
        "        elif 'text' in mime_type:\n",
        "            return 'Text'\n",
        "        elif mime_type.startswith('image/'):\n",
        "            return 'Bitmap Image'\n",
        "\n",
        "    return 'Unknown format'\n",
        "\n",
        "# Define processing functions for each file type\n",
        "def process_pdf(file_path):\n",
        "    print(f\"Processing PDF file: {file_path}\")\n",
        "    # Add your PDF processing logic here\n",
        "    return \"PDF processed\"\n",
        "\n",
        "def process_word(file_path):\n",
        "    print(f\"Processing Word file: {file_path}\")\n",
        "    # Add your Word processing logic here\n",
        "    return \"Word processed\"\n",
        "\n",
        "def process_powerpoint(file_path):\n",
        "    print(f\"Processing PowerPoint file: {file_path}\")\n",
        "    # Add your PowerPoint processing logic here\n",
        "    return \"PowerPoint processed\"\n",
        "\n",
        "def process_text(file_path):\n",
        "    print(f\"Processing Text file: {file_path}\")\n",
        "    # Add your Text processing logic here\n",
        "    return \"Text processed\"\n",
        "\n",
        "def process_image(file_path):\n",
        "    print(f\"Processing Image file: {file_path}\")\n",
        "    # Add your Image processing logic here\n",
        "    return \"Image processed\"\n",
        "\n",
        "def process_unknown(file_path):\n",
        "    print(f\"Processing Unknown file type: {file_path}\")\n",
        "    # Add your Unknown file processing logic here\n",
        "    return \"Unknown file processed\"\n",
        "\n",
        "def process_folder(folder_path):\n",
        "    # Check if the folder exists\n",
        "    if not os.path.exists(folder_path):\n",
        "        print(f\"The directory {folder_path} does not exist.\")\n",
        "        return\n",
        "\n",
        "    # List all files in the directory\n",
        "    file_paths = [f for f in os.listdir(folder_path) if os.path.isfile(os.path.join(folder_path, f))]\n",
        "\n",
        "    if not file_paths:\n",
        "        print(\"No files found in the directory.\")\n",
        "        return\n",
        "\n",
        "    # Get the first file\n",
        "    first_file = file_paths[0]\n",
        "    first_file_path = os.path.join(folder_path, first_file)\n",
        "\n",
        "    # Detect the file format\n",
        "    file_format = detect_file_format(first_file_path)\n",
        "    print(f\"First file: {first_file}, Format: {file_format}\")\n",
        "\n",
        "    # Call the appropriate processing function based on the file format\n",
        "    if file_format == 'PDF':\n",
        "        result = process_pdf(first_file_path)\n",
        "    elif file_format == 'Word':\n",
        "        result = process_word(first_file_path)\n",
        "    elif file_format == 'PowerPoint':\n",
        "        result = process_powerpoint(first_file_path)\n",
        "    elif file_format == 'Text':\n",
        "        result = process_text(first_file_path)\n",
        "    elif file_format == 'Bitmap Image':\n",
        "        result = process_image(first_file_path)\n",
        "    else:\n",
        "        result = process_unknown(first_file_path)\n",
        "\n",
        "    print(f\"Result: {result}\")\n"
      ],
      "metadata": {
        "id": "AqXR3aVgLWKS"
      },
      "execution_count": 2,
      "outputs": []
    },
    {
      "cell_type": "code",
      "source": [
        "\n",
        "# Example usage\n",
        "if __name__ == \"__main__\":\n",
        "    # Replace with your folder path\n",
        "    #folder_path = input(\"Enter the folder path: \")  # e.g., '/content/drive/My Drive/genai_sample_data/'\n",
        "    folder_path='/content/drive/My Drive/genai_sample_data/'\n",
        "    process_folder(folder_path)"
      ],
      "metadata": {
        "id": "pKLzL7tL5qS6",
        "colab": {
          "base_uri": "https://localhost:8080/"
        },
        "outputId": "71577c19-c163-4061-a9ec-8359d7aa9655"
      },
      "execution_count": 3,
      "outputs": [
        {
          "output_type": "stream",
          "name": "stdout",
          "text": [
            "First file: mehdi_image.jpg, Format: Bitmap Image\n",
            "Processing Image file: /content/drive/My Drive/genai_sample_data/mehdi_image.jpg\n",
            "Result: Image processed\n"
          ]
        }
      ]
    }
  ]
}